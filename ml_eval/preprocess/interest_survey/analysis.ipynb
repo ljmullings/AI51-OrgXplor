{
 "cells": [
  {
   "cell_type": "code",
   "execution_count": null,
   "metadata": {},
   "outputs": [],
   "source": [
    "import pandas as pd\n",
    "\n",
    "df = pd.read_csv(\"../../datasets/orgxplor_interest_responses.csv\")"
   ]
  },
  {
   "cell_type": "code",
   "execution_count": null,
   "metadata": {},
   "outputs": [],
   "source": [
    "df.keys()"
   ]
  },
  {
   "cell_type": "code",
   "execution_count": null,
   "metadata": {},
   "outputs": [],
   "source": [
    "from collections import Counter\n",
    "from typing import List\n",
    "import numpy as np\n",
    "\n",
    "key_time_stamp = 'Timestamp'\n",
    "key_year_study = 'What year are you?'\n",
    "key_extracurricular = 'What are your extracurricular interests? (Choose all that apply)'\n",
    "key_activities = 'Preferred Activities (Choose all that apply)'\n",
    "key_major = 'What is your major?'\n",
    "key_ethnic_org = 'Would you be interested in joining ethnic-oriented organizations?\\r\\n(Examples: Cultural clubs, heritage-based student groups)'\n",
    "key_ethnic_id = 'Optional Question (If Yes):\\r\\nIf comfortable, please share your ethnic identity. This will help us match you with relevant groups and events.\\r\\n\\r\\nOptions (Select all that apply or specify your own)  '\n",
    "key_faith_org = 'Would you be interested in joining faith or religion-oriented organizations?\\r\\n(Examples: Student groups or clubs focused on specific religious practices, interfaith events, or spiritual activities)'\n",
    "key_faith_id = 'Optional Question (If Yes):\\r\\nIf comfortable, please share your religious or spiritual identity. This will help us match you with relevant groups and events.\\r\\n\\r\\n(Select all that apply or specify your own)  '\n",
    "key_attend_freq = 'How frequently do you prefer to attend campus events?  '\n",
    "key_time_of_day = 'What time of day do you generally prefer for events? Select all that apply. '\n",
    "key_achieve = 'What do you hope to achieve by attending events?  '\n",
    "key_academic = 'Do you seek events for academic support?'\n",
    "key_reminders = 'How would you prefer to receive event reminders?  '\n",
    "key_diversity_inclusion = 'Would you like to see events that promote diversity and inclusion?  '\n",
    "key_prompt_feedback = 'Would you like to be prompted for feedback after each event or periodically? '\n",
    "\n",
    "class Preprocessing:\n",
    "    # Robust detection of multiple classes.\n",
    "    def _detect_multiclass(text: str, classes: List[str], all_above_cls: str|None = None):\n",
    "        text = text.lower()\n",
    "\n",
    "        if all_above_cls and all_above_cls in text:\n",
    "            return classes\n",
    "        \n",
    "        detected: List[str] = []\n",
    "        for cls in classes:\n",
    "            if cls.lower() in text:\n",
    "                detected.append(cls)\n",
    "\n",
    "        return detected\n",
    "\n",
    "    def get_extracurricular(text: str):\n",
    "        interests = [\"Music\", \"Fashion\",\n",
    "                    \"Arts & Media\", \"Recreational Sports\",\n",
    "                    \"Video Games\", \"Social Events\",\n",
    "                    \"Literature\"]\n",
    "\n",
    "        return Preprocessing._detect_multiclass(text, interests, all_above_cls=\"All of the Above\")\n",
    "\n",
    "    def get_ethnic(text: str):\n",
    "        identities = [\n",
    "            \"African/African American/Black\",\n",
    "            \"Asian/Pacific Islander\",\n",
    "            \"Hispanic/Latino\",\n",
    "            \"Indigenous/Native American\",\n",
    "            \"Middle Eastern/North African\",\n",
    "            \"White/European Descent\",\n",
    "            \"Multiracial\",\n",
    "        ]\n",
    "        \n",
    "        return Preprocessing._detect_multiclass(text, identities)\n",
    "\n",
    "    def get_faith(text: str):\n",
    "        faiths = [\"Buddhism\", \"Christianity\",\n",
    "                \"Hinduism\", \"Islam\",\n",
    "                \"Judaism\", \"Sikhism\",\n",
    "                \"Spiritual but not religious\"]\n",
    "        \n",
    "        return Preprocessing._detect_multiclass(text, faiths)\n",
    "\n",
    "    def get_activities(text: str):\n",
    "        activities = [\"Competitions\", \"Information Sessions\", \n",
    "                    \"Volunteering\", \"Networking\", \n",
    "                    \"Workshops\", \"Social Gatherings\"]\n",
    "        \n",
    "        return Preprocessing._detect_multiclass(text, activities)\n",
    "    \n",
    "    def get_times(text: str):\n",
    "        text = text.lower()\n",
    "\n",
    "        times = [f\"{hour}:{minute:02} {meridiem}\"\n",
    "            for meridiem in [\"AM\", \"PM\"]\n",
    "            for hour in [12] + list(range(1,12))\n",
    "            for minute in range(0, 60, 15)\n",
    "        ]\n",
    "        user_times = []\n",
    "        if \"morning\" in text:\n",
    "            user_times += [f\"{hour}:{minute:02} {meridiem}\"\n",
    "                for meridiem in [\"AM\"]\n",
    "                for hour in range(8, 12)\n",
    "                for minute in range(0, 60, 15)\n",
    "            ]\n",
    "        if \"afternoon\" in text:\n",
    "            user_times += [f\"{hour}:{minute:02} {meridiem}\"\n",
    "                for meridiem in [\"PM\"]\n",
    "                for hour in [12] + list(range(1,4))\n",
    "                for minute in range(0, 60, 15)\n",
    "            ]\n",
    "        if \"evening\" in text:\n",
    "            user_times += [f\"{hour}:{minute:02} {meridiem}\"\n",
    "                for meridiem in [\"PM\"]\n",
    "                for hour in range(4, 8)\n",
    "                for minute in range(0, 60, 15)\n",
    "            ]\n",
    "        if \"night\" in text:\n",
    "            user_times += [f\"{hour}:{minute:02} {meridiem}\"\n",
    "                for meridiem in [\"PM\"]\n",
    "                for hour in range(8, 12)\n",
    "                for minute in range(0, 60, 15)\n",
    "            ]\n",
    "        return user_times\n",
    "    \n",
    "    def get_achieve(text: str):\n",
    "        achievements = [\n",
    "            \"Meeting new people\",\n",
    "            \"Building professional connections\",\n",
    "            \"Gaining academic knowledge\",\n",
    "            \"Exploring new hobbies and interests\"\n",
    "        ]\n",
    "        return Preprocessing._detect_multiclass(text, achievements)\n",
    "    \n",
    "    def get_remind_preference(text: str):\n",
    "        preference = [\n",
    "            \"App notifications\",\n",
    "            \"Email\",\n",
    "            \"SMS/Text\",\n",
    "            \"None\",\n",
    "        ]\n",
    "        return Preprocessing._detect_multiclass(text, preference)"
   ]
  },
  {
   "cell_type": "code",
   "execution_count": null,
   "metadata": {},
   "outputs": [],
   "source": [
    "from sklearn.preprocessing import MultiLabelBinarizer\n",
    "\n",
    "mlb_extracurricular = MultiLabelBinarizer()\n",
    "encoded = mlb_extracurricular.fit_transform([Preprocessing.get_extracurricular(text) for text in df[key_extracurricular]])\n",
    "\n",
    "df = df.join(pd.DataFrame(encoded, columns=[\"Extracurricular: \" + e for e in mlb_extracurricular.classes_]))"
   ]
  },
  {
   "cell_type": "code",
   "execution_count": null,
   "metadata": {},
   "outputs": [],
   "source": [
    "mlb_ethnic = MultiLabelBinarizer()\n",
    "encoded = mlb_ethnic.fit_transform([Preprocessing.get_ethnic(str(text)) for text in df[key_ethnic_id]])\n",
    "\n",
    "df = df.join(pd.DataFrame(encoded, columns=[\"Ethnic Identity: \" + e for e in mlb_ethnic.classes_]))"
   ]
  },
  {
   "cell_type": "code",
   "execution_count": null,
   "metadata": {},
   "outputs": [],
   "source": [
    "mlb_faith = MultiLabelBinarizer()\n",
    "encoded = mlb_faith.fit_transform([Preprocessing.get_faith(str(text)) for text in df[key_faith_id]])\n",
    "\n",
    "df = df.join(pd.DataFrame(encoded, columns=[\"Faith: \" + f for f in mlb_faith.classes_]))"
   ]
  },
  {
   "cell_type": "code",
   "execution_count": null,
   "metadata": {},
   "outputs": [],
   "source": [
    "mlb_activities = MultiLabelBinarizer()\n",
    "encoded = mlb_activities.fit_transform([Preprocessing.get_activities(text) for text in df[key_activities]])\n",
    "\n",
    "df = df.join(pd.DataFrame(encoded, columns=[\"Activity: \" + a for a in mlb_activities.classes_]))"
   ]
  },
  {
   "cell_type": "code",
   "execution_count": null,
   "metadata": {},
   "outputs": [],
   "source": [
    "mlb_times = MultiLabelBinarizer()\n",
    "encoded = mlb_times.fit_transform([Preprocessing.get_times(str(text)) for text in df[key_time_of_day]])\n",
    "\n",
    "df = df.join(pd.DataFrame(encoded, columns=[\"Time Available: \" + t for t in mlb_times.classes_]))"
   ]
  },
  {
   "cell_type": "code",
   "execution_count": null,
   "metadata": {},
   "outputs": [],
   "source": [
    "mlb_achieve = MultiLabelBinarizer()\n",
    "encoded = mlb_achieve.fit_transform([Preprocessing.get_achieve(str(text)) for text in df[key_achieve]])\n",
    "\n",
    "df = df.join(pd.DataFrame(encoded, columns=[\"Hope to Achieve: \" + a for a in mlb_achieve.classes_]))"
   ]
  },
  {
   "cell_type": "code",
   "execution_count": null,
   "metadata": {},
   "outputs": [],
   "source": [
    "mlb_remind = MultiLabelBinarizer()\n",
    "encoded = mlb_remind.fit_transform([Preprocessing.get_remind_preference(str(text)) for text in df[key_reminders]])\n",
    "\n",
    "df = df.join(pd.DataFrame(encoded, columns=[\"Remind Preference: \" + p for p in mlb_remind.classes_]))"
   ]
  },
  {
   "cell_type": "code",
   "execution_count": null,
   "metadata": {},
   "outputs": [],
   "source": [
    "df[key_major].fillna(\"Other\")\n",
    "df[key_major] = df[key_major].fillna(\"Other\")"
   ]
  },
  {
   "cell_type": "code",
   "execution_count": null,
   "metadata": {},
   "outputs": [],
   "source": [
    "from sklearn.preprocessing import OneHotEncoder\n",
    "\n",
    "ohe_study = OneHotEncoder()\n",
    "encoded: np.ndarray = ohe_study.fit_transform(df[[key_major]]).toarray()\n",
    "encoded = encoded.astype(np.int32)\n",
    "df = df.join(pd.DataFrame(encoded, columns=[\"Major: \" + m for m in ohe_study.categories_[0]]))"
   ]
  },
  {
   "cell_type": "code",
   "execution_count": null,
   "metadata": {},
   "outputs": [],
   "source": [
    "ohe_ethnic = OneHotEncoder()\n",
    "encoded: np.ndarray = ohe_ethnic.fit_transform(df[[key_ethnic_org]]).toarray()\n",
    "encoded = encoded.astype(np.int32)\n",
    "df = df.join(pd.DataFrame(encoded, columns=[\"Join Ethnic Group: \" + ans for ans in ohe_ethnic.categories_[0]]))"
   ]
  },
  {
   "cell_type": "code",
   "execution_count": null,
   "metadata": {},
   "outputs": [],
   "source": [
    "ohe_faith = OneHotEncoder()\n",
    "encoded: np.ndarray = ohe_faith.fit_transform(df[[key_faith_org]]).toarray()\n",
    "encoded = encoded.astype(np.int32)\n",
    "df = df.join(pd.DataFrame(encoded, columns=[\"Join Faith Group: \" + ans for ans in ohe_faith.categories_[0]]))"
   ]
  },
  {
   "cell_type": "code",
   "execution_count": null,
   "metadata": {},
   "outputs": [],
   "source": [
    "ohe_attend_freq = OneHotEncoder()\n",
    "encoded: np.ndarray = ohe_attend_freq.fit_transform(df[[key_attend_freq]]).toarray()\n",
    "encoded = encoded.astype(np.int32)\n",
    "df = df.join(pd.DataFrame(encoded, columns=[\"Attendance Frequency: \" + ans for ans in ohe_attend_freq.categories_[0]]))"
   ]
  },
  {
   "cell_type": "code",
   "execution_count": null,
   "metadata": {},
   "outputs": [],
   "source": [
    "ohe_academic = OneHotEncoder()\n",
    "encoded: np.ndarray = ohe_academic.fit_transform(df[[key_academic]]).toarray()\n",
    "encoded = encoded.astype(np.int32)\n",
    "df = df.join(pd.DataFrame(encoded, columns=[\"Events for Academic Support: \" + ans for ans in ohe_academic.categories_[0]]))"
   ]
  },
  {
   "cell_type": "code",
   "execution_count": null,
   "metadata": {},
   "outputs": [],
   "source": [
    "diversity = OneHotEncoder()\n",
    "encoded: np.ndarray = diversity.fit_transform(df[[key_diversity_inclusion]]).toarray()\n",
    "encoded = encoded.astype(np.int32)\n",
    "df = df.join(pd.DataFrame(encoded, columns=[\"Events for Diversity and Inclusion: \" + ans for ans in diversity.categories_[0]]))"
   ]
  },
  {
   "cell_type": "code",
   "execution_count": null,
   "metadata": {},
   "outputs": [],
   "source": [
    "df.to_csv(\"../../datasets/orgxplor_interest_responses_processed.csv\")"
   ]
  },
  {
   "cell_type": "code",
   "execution_count": null,
   "metadata": {},
   "outputs": [],
   "source": []
  }
 ],
 "metadata": {
  "kernelspec": {
   "display_name": "orgxplor_eval",
   "language": "python",
   "name": "python3"
  },
  "language_info": {
   "codemirror_mode": {
    "name": "ipython",
    "version": 3
   },
   "file_extension": ".py",
   "mimetype": "text/x-python",
   "name": "python",
   "nbconvert_exporter": "python",
   "pygments_lexer": "ipython3",
   "version": "3.12.0"
  }
 },
 "nbformat": 4,
 "nbformat_minor": 2
}
